{
 "cells": [
  {
   "cell_type": "code",
   "execution_count": 9,
   "id": "b6af2937",
   "metadata": {},
   "outputs": [],
   "source": [
    "import pandas as pd\n",
    "import networkx as nx\n",
    "import pyodbc\n",
    "import sqlalchemy"
   ]
  },
  {
   "cell_type": "code",
   "execution_count": null,
   "id": "fc19b0fc",
   "metadata": {},
   "outputs": [],
   "source": []
  },
  {
   "cell_type": "code",
   "execution_count": null,
   "id": "6f4dcc92",
   "metadata": {},
   "outputs": [],
   "source": []
  },
  {
   "cell_type": "code",
   "execution_count": null,
   "id": "245278ca",
   "metadata": {},
   "outputs": [],
   "source": []
  },
  {
   "cell_type": "code",
   "execution_count": 6,
   "id": "514dd490",
   "metadata": {},
   "outputs": [],
   "source": [
    "data = pd.read_csv('./Datasets/cliques.txt')"
   ]
  },
  {
   "cell_type": "code",
   "execution_count": 7,
   "id": "ef14e423",
   "metadata": {},
   "outputs": [
    {
     "data": {
      "text/html": [
       "<div>\n",
       "<style scoped>\n",
       "    .dataframe tbody tr th:only-of-type {\n",
       "        vertical-align: middle;\n",
       "    }\n",
       "\n",
       "    .dataframe tbody tr th {\n",
       "        vertical-align: top;\n",
       "    }\n",
       "\n",
       "    .dataframe thead th {\n",
       "        text-align: right;\n",
       "    }\n",
       "</style>\n",
       "<table border=\"1\" class=\"dataframe\">\n",
       "  <thead>\n",
       "    <tr style=\"text-align: right;\">\n",
       "      <th></th>\n",
       "      <th>Clique</th>\n",
       "      <th>CIF</th>\n",
       "      <th>CID</th>\n",
       "      <th>RISK_CLASS</th>\n",
       "      <th>customer_id</th>\n",
       "      <th>updated</th>\n",
       "    </tr>\n",
       "  </thead>\n",
       "  <tbody>\n",
       "    <tr>\n",
       "      <th>0</th>\n",
       "      <td>35202</td>\n",
       "      <td>79500</td>\n",
       "      <td>79500</td>\n",
       "      <td>L</td>\n",
       "      <td>79500</td>\n",
       "      <td>2022-05-13 00:00:00</td>\n",
       "    </tr>\n",
       "    <tr>\n",
       "      <th>1</th>\n",
       "      <td>35205</td>\n",
       "      <td>79515</td>\n",
       "      <td>79515</td>\n",
       "      <td>L</td>\n",
       "      <td>79515</td>\n",
       "      <td>2022-05-13 00:00:00</td>\n",
       "    </tr>\n",
       "    <tr>\n",
       "      <th>2</th>\n",
       "      <td>35209</td>\n",
       "      <td>79517</td>\n",
       "      <td>79517</td>\n",
       "      <td>L</td>\n",
       "      <td>79517</td>\n",
       "      <td>2022-05-13 00:00:00</td>\n",
       "    </tr>\n",
       "    <tr>\n",
       "      <th>3</th>\n",
       "      <td>17722</td>\n",
       "      <td>79532</td>\n",
       "      <td>79532</td>\n",
       "      <td>L</td>\n",
       "      <td>79532</td>\n",
       "      <td>2022-05-13 00:00:00</td>\n",
       "    </tr>\n",
       "    <tr>\n",
       "      <th>4</th>\n",
       "      <td>18682</td>\n",
       "      <td>79534</td>\n",
       "      <td>79534</td>\n",
       "      <td>L</td>\n",
       "      <td>79534</td>\n",
       "      <td>2022-05-13 00:00:00</td>\n",
       "    </tr>\n",
       "  </tbody>\n",
       "</table>\n",
       "</div>"
      ],
      "text/plain": [
       "   Clique    CIF    CID RISK_CLASS  customer_id              updated\n",
       "0   35202  79500  79500          L        79500  2022-05-13 00:00:00\n",
       "1   35205  79515  79515          L        79515  2022-05-13 00:00:00\n",
       "2   35209  79517  79517          L        79517  2022-05-13 00:00:00\n",
       "3   17722  79532  79532          L        79532  2022-05-13 00:00:00\n",
       "4   18682  79534  79534          L        79534  2022-05-13 00:00:00"
      ]
     },
     "execution_count": 7,
     "metadata": {},
     "output_type": "execute_result"
    }
   ],
   "source": [
    "data.head()"
   ]
  },
  {
   "cell_type": "code",
   "execution_count": null,
   "id": "e9cf56a3",
   "metadata": {},
   "outputs": [],
   "source": []
  },
  {
   "cell_type": "code",
   "execution_count": null,
   "id": "b746f41a",
   "metadata": {},
   "outputs": [],
   "source": [
    "G = nx.graph"
   ]
  },
  {
   "cell_type": "code",
   "execution_count": null,
   "id": "1bbb86b3",
   "metadata": {},
   "outputs": [],
   "source": [
    "G = nx.from_pandas_edgelist(df,'A_CIF','B_CIF')"
   ]
  },
  {
   "cell_type": "code",
   "execution_count": null,
   "id": "17ebfd77",
   "metadata": {},
   "outputs": [],
   "source": [
    "cliques = list(k_clique_communities(G,2))"
   ]
  },
  {
   "cell_type": "code",
   "execution_count": null,
   "id": "619c5747",
   "metadata": {},
   "outputs": [],
   "source": []
  },
  {
   "cell_type": "code",
   "execution_count": null,
   "id": "b351dcac",
   "metadata": {},
   "outputs": [],
   "source": []
  }
 ],
 "metadata": {
  "kernelspec": {
   "display_name": "Python 3.8 - AzureML",
   "language": "python",
   "name": "python38-azureml"
  },
  "language_info": {
   "codemirror_mode": {
    "name": "ipython",
    "version": 3
   },
   "file_extension": ".py",
   "mimetype": "text/x-python",
   "name": "python",
   "nbconvert_exporter": "python",
   "pygments_lexer": "ipython3",
   "version": "3.8.5"
  }
 },
 "nbformat": 4,
 "nbformat_minor": 5
}
