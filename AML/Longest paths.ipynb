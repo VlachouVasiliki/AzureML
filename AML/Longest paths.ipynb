{
 "cells": [
  {
   "cell_type": "code",
   "execution_count": 1,
   "id": "cb752932",
   "metadata": {},
   "outputs": [],
   "source": [
    "import pandas as pd\n",
    "import networkx as nx"
   ]
  },
  {
   "cell_type": "code",
   "execution_count": 2,
   "id": "c18a6355",
   "metadata": {},
   "outputs": [],
   "source": [
    "dataset = pd.read_csv('_SELECT_RMTC_ACC_CD_AS_FROM_ACC_ACC_CD_AS_TO_ACC_RMTC_BNK_ID_cou_202203171620.csv', \n",
    "                      dtype={\"FROM_ACC\": \"string\", \"TO_ACC\": \"string\", \"RMTC_BNK_ID\": \"string\", \"NUM\": int, \"AMT\":float })\n",
    "\n",
    "dataset = dataset.loc[(dataset[\"FROM_ACC\"] != '-100') & (dataset[\"FROM_ACC\"] != '-200') & (dataset[\"TO_ACC\"] != '-100') & (dataset[\"TO_ACC\"] != '-200')].reset_index(drop=True)"
   ]
  },
  {
   "cell_type": "code",
   "execution_count": 3,
   "id": "cc4002a7",
   "metadata": {},
   "outputs": [],
   "source": [
    "def calculate_weights(data, acc_from, acc_to, agg_weight, weight = 'AMT'):\n",
    "    # put median as weight\n",
    "    if weight == 'AMT':\n",
    "        \n",
    "        data['from_to'] = list(zip(data[acc_from], data[acc_to]))\n",
    "\n",
    "        sum_amount = data.groupby(['from_to'])[agg_weight].sum().reset_index()\n",
    "\n",
    "        sum_amount['from'], sum_amount['to'] = zip(*sum_amount.from_to)\n",
    "\n",
    "        # make tuple with weight\n",
    "        edges_weights = list(zip(sum_amount['from'], sum_amount['to'], sum_amount[agg_weight])) \n",
    "        \n",
    "    return edges_weights"
   ]
  },
  {
   "cell_type": "code",
   "execution_count": 4,
   "id": "11a904ea",
   "metadata": {},
   "outputs": [],
   "source": [
    "import networkx as nx\n",
    "\n",
    "def create_network(data, nodes_from, nodes_to, weight = None, prints = False, graph_type = nx.Graph()):\n",
    "    \n",
    "    G = graph_type\n",
    "    # create the graph\n",
    "    G.add_weighted_edges_from(calculate_weights(data, nodes_from, nodes_to, weight))\n",
    "    \n",
    "    # store the nodes and edges\n",
    "    nodes, edges = list(G.nodes()), list(G.edges())\n",
    "    \n",
    "    # print the properties of the network\n",
    "    if prints:\n",
    "        \n",
    "        print('The network is{} weakly connected'.format('' if nx.is_weakly_connected(G) else ' not'))\n",
    "        print('The number of weakly connected components of the network are: {:,d}'.format(nx.number_weakly_connected_components(G)))\n",
    "        print('The network is{} strongly connected'.format('' if nx.is_strongly_connected(G) else ' not'))\n",
    "        print('The number of strongly connected components of the network are : {:,d}'.format(nx.number_strongly_connected_components(G)))\n",
    "\n",
    "    if type(graph_type) == nx.DiGraph():\n",
    "        print('The network is{} connected'.format('' if nx.is_connected(G) else ' not'))\n",
    "\n",
    "    return (G, nodes, edges)"
   ]
  },
  {
   "cell_type": "code",
   "execution_count": 5,
   "id": "b5ef8c1f",
   "metadata": {},
   "outputs": [],
   "source": [
    "G, nodes, edges = create_network(dataset, 'FROM_ACC', 'TO_ACC', 'AMT',  prints=False, graph_type = nx.DiGraph())"
   ]
  },
  {
   "cell_type": "code",
   "execution_count": 6,
   "id": "6b979677",
   "metadata": {},
   "outputs": [
    {
     "ename": "MemoryError",
     "evalue": "",
     "output_type": "error",
     "traceback": [
      "\u001b[1;31m---------------------------------------------------------------------------\u001b[0m",
      "\u001b[1;31mMemoryError\u001b[0m                               Traceback (most recent call last)",
      "\u001b[1;32m~\\AppData\\Local\\Temp/ipykernel_16852/2218656976.py\u001b[0m in \u001b[0;36m<module>\u001b[1;34m\u001b[0m\n\u001b[0;32m      1\u001b[0m \u001b[1;31m# remove cycle\u001b[0m\u001b[1;33m\u001b[0m\u001b[1;33m\u001b[0m\u001b[0m\n\u001b[1;32m----> 2\u001b[1;33m \u001b[0mG\u001b[0m\u001b[1;33m.\u001b[0m\u001b[0mremove_edges_from\u001b[0m\u001b[1;33m(\u001b[0m\u001b[0mlist\u001b[0m\u001b[1;33m(\u001b[0m\u001b[0mnx\u001b[0m\u001b[1;33m.\u001b[0m\u001b[0msimple_cycles\u001b[0m\u001b[1;33m(\u001b[0m\u001b[0mG\u001b[0m\u001b[1;33m)\u001b[0m\u001b[1;33m)\u001b[0m\u001b[1;33m)\u001b[0m\u001b[1;33m\u001b[0m\u001b[1;33m\u001b[0m\u001b[0m\n\u001b[0m\u001b[0;32m      3\u001b[0m \u001b[1;33m\u001b[0m\u001b[0m\n\u001b[0;32m      4\u001b[0m \u001b[1;33m\u001b[0m\u001b[0m\n\u001b[0;32m      5\u001b[0m \u001b[1;31m#from collections import defaultdict\u001b[0m\u001b[1;33m\u001b[0m\u001b[1;33m\u001b[0m\u001b[0m\n",
      "\u001b[1;32m~\\Anaconda3\\lib\\site-packages\\networkx\\utils\\decorators.py\u001b[0m in \u001b[0;36mfunc\u001b[1;34m(_argmap__wrapper, *args, **kwargs)\u001b[0m\n\u001b[0;32m    788\u001b[0m \u001b[1;33m\u001b[0m\u001b[0m\n\u001b[0;32m    789\u001b[0m             \u001b[1;32mdef\u001b[0m \u001b[0mfunc\u001b[0m\u001b[1;33m(\u001b[0m\u001b[1;33m*\u001b[0m\u001b[0margs\u001b[0m\u001b[1;33m,\u001b[0m \u001b[0m__wrapper\u001b[0m\u001b[1;33m=\u001b[0m\u001b[1;32mNone\u001b[0m\u001b[1;33m,\u001b[0m \u001b[1;33m**\u001b[0m\u001b[0mkwargs\u001b[0m\u001b[1;33m)\u001b[0m\u001b[1;33m:\u001b[0m\u001b[1;33m\u001b[0m\u001b[1;33m\u001b[0m\u001b[0m\n\u001b[1;32m--> 790\u001b[1;33m                 \u001b[1;32myield\u001b[0m \u001b[1;32mfrom\u001b[0m \u001b[0margmap\u001b[0m\u001b[1;33m.\u001b[0m\u001b[0m_lazy_compile\u001b[0m\u001b[1;33m(\u001b[0m\u001b[0m__wrapper\u001b[0m\u001b[1;33m)\u001b[0m\u001b[1;33m(\u001b[0m\u001b[1;33m*\u001b[0m\u001b[0margs\u001b[0m\u001b[1;33m,\u001b[0m \u001b[1;33m**\u001b[0m\u001b[0mkwargs\u001b[0m\u001b[1;33m)\u001b[0m\u001b[1;33m\u001b[0m\u001b[1;33m\u001b[0m\u001b[0m\n\u001b[0m\u001b[0;32m    791\u001b[0m \u001b[1;33m\u001b[0m\u001b[0m\n\u001b[0;32m    792\u001b[0m         \u001b[1;32melse\u001b[0m\u001b[1;33m:\u001b[0m\u001b[1;33m\u001b[0m\u001b[1;33m\u001b[0m\u001b[0m\n",
      "\u001b[1;32m~\\Anaconda3\\lib\\site-packages\\networkx\\utils\\decorators.py\u001b[0m in \u001b[0;36margmap_simple_cycles_1\u001b[1;34m(G)\u001b[0m\n\u001b[0;32m      2\u001b[0m \u001b[1;32mfrom\u001b[0m \u001b[0mos\u001b[0m\u001b[1;33m.\u001b[0m\u001b[0mpath\u001b[0m \u001b[1;32mimport\u001b[0m \u001b[0msplitext\u001b[0m\u001b[1;33m\u001b[0m\u001b[1;33m\u001b[0m\u001b[0m\n\u001b[0;32m      3\u001b[0m \u001b[1;32mfrom\u001b[0m \u001b[0mcontextlib\u001b[0m \u001b[1;32mimport\u001b[0m \u001b[0mcontextmanager\u001b[0m\u001b[1;33m\u001b[0m\u001b[1;33m\u001b[0m\u001b[0m\n\u001b[1;32m----> 4\u001b[1;33m \u001b[1;32mfrom\u001b[0m \u001b[0mpathlib\u001b[0m \u001b[1;32mimport\u001b[0m \u001b[0mPath\u001b[0m\u001b[1;33m\u001b[0m\u001b[1;33m\u001b[0m\u001b[0m\n\u001b[0m\u001b[0;32m      5\u001b[0m \u001b[1;32mimport\u001b[0m \u001b[0mwarnings\u001b[0m\u001b[1;33m\u001b[0m\u001b[1;33m\u001b[0m\u001b[0m\n\u001b[0;32m      6\u001b[0m \u001b[1;33m\u001b[0m\u001b[0m\n",
      "\u001b[1;32m~\\Anaconda3\\lib\\site-packages\\networkx\\algorithms\\cycles.py\u001b[0m in \u001b[0;36msimple_cycles\u001b[1;34m(G)\u001b[0m\n\u001b[0;32m    200\u001b[0m                 \u001b[0mnextnode\u001b[0m \u001b[1;33m=\u001b[0m \u001b[0mnbrs\u001b[0m\u001b[1;33m.\u001b[0m\u001b[0mpop\u001b[0m\u001b[1;33m(\u001b[0m\u001b[1;33m)\u001b[0m\u001b[1;33m\u001b[0m\u001b[1;33m\u001b[0m\u001b[0m\n\u001b[0;32m    201\u001b[0m                 \u001b[1;32mif\u001b[0m \u001b[0mnextnode\u001b[0m \u001b[1;33m==\u001b[0m \u001b[0mstartnode\u001b[0m\u001b[1;33m:\u001b[0m\u001b[1;33m\u001b[0m\u001b[1;33m\u001b[0m\u001b[0m\n\u001b[1;32m--> 202\u001b[1;33m                     \u001b[1;32myield\u001b[0m \u001b[0mpath\u001b[0m\u001b[1;33m[\u001b[0m\u001b[1;33m:\u001b[0m\u001b[1;33m]\u001b[0m\u001b[1;33m\u001b[0m\u001b[1;33m\u001b[0m\u001b[0m\n\u001b[0m\u001b[0;32m    203\u001b[0m                     \u001b[0mclosed\u001b[0m\u001b[1;33m.\u001b[0m\u001b[0mupdate\u001b[0m\u001b[1;33m(\u001b[0m\u001b[0mpath\u001b[0m\u001b[1;33m)\u001b[0m\u001b[1;33m\u001b[0m\u001b[1;33m\u001b[0m\u001b[0m\n\u001b[0;32m    204\u001b[0m                 \u001b[1;31m#                        print \"Found a cycle\", path, closed\u001b[0m\u001b[1;33m\u001b[0m\u001b[1;33m\u001b[0m\u001b[0m\n",
      "\u001b[1;31mMemoryError\u001b[0m: "
     ]
    }
   ],
   "source": [
    "# remove cycle\n",
    "G.remove_edges_from(list(nx.simple_cycles(G)))\n",
    "\n",
    "\n",
    "#from collections import defaultdict\n",
    "from itertools import chain\n",
    "\n",
    "def DFS(G, v, seen = None,path = None):\n",
    "    if seen is None: seen = []\n",
    "    if path is None: path = [v]\n",
    "\n",
    "    seen.append(v)\n",
    "\n",
    "    paths = []\n",
    "    for t in G[v]:\n",
    "        if t not in seen:\n",
    "            t_path = path + [t]\n",
    "            paths.append(tuple(t_path))\n",
    "            paths.extend(DFS(G, t, seen[:], t_path))\n",
    "    return paths\n",
    "\n",
    "# Run DFS, compute metrics\n",
    "\n",
    "all_paths = list(chain.from_iterable(DFS(H, n) for n in set(H)))\n",
    "\n",
    "max_len   = max(len(p) for p in all_paths)\n",
    "max_paths = [p for p in all_paths if len(p) == max_len]\n",
    "\n",
    "source, target = [], []\n",
    "for i in max_paths:\n",
    "    source.append(i[0])\n",
    "    target.append(i[7])\n",
    "    \n",
    "# these accounts can have a strange bahavior since they tranfer amounts through many other accounts.\n",
    "longest_path_accounts = list(set(source + target))"
   ]
  },
  {
   "cell_type": "code",
   "execution_count": null,
   "id": "a43e89d4",
   "metadata": {},
   "outputs": [],
   "source": []
  },
  {
   "cell_type": "code",
   "execution_count": null,
   "id": "ecba04ea",
   "metadata": {},
   "outputs": [],
   "source": []
  },
  {
   "cell_type": "code",
   "execution_count": null,
   "id": "852e6ef0",
   "metadata": {},
   "outputs": [],
   "source": []
  },
  {
   "cell_type": "code",
   "execution_count": null,
   "id": "a1ccc6d8",
   "metadata": {},
   "outputs": [],
   "source": []
  }
 ],
 "metadata": {
  "kernelspec": {
   "display_name": "Python 3",
   "language": "python",
   "name": "python3"
  },
  "language_info": {
   "codemirror_mode": {
    "name": "ipython",
    "version": 3
   },
   "file_extension": ".py",
   "mimetype": "text/x-python",
   "name": "python",
   "nbconvert_exporter": "python",
   "pygments_lexer": "ipython3",
   "version": "3.8.5"
  }
 },
 "nbformat": 4,
 "nbformat_minor": 5
}
