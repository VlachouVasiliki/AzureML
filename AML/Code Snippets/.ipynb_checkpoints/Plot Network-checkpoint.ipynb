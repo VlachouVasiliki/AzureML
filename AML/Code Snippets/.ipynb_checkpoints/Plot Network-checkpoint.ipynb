{
 "cells": [
  {
   "cell_type": "markdown",
   "id": "dd7f5516",
   "metadata": {},
   "source": [
    "Plot a Network"
   ]
  },
  {
   "cell_type": "code",
   "execution_count": null,
   "id": "07ceb28a",
   "metadata": {},
   "outputs": [],
   "source": [
    "import networkx as nx\n",
    "import pandas as pd\n",
    "from networkx.algorithms.community import k_clique_communities\n",
    "import matplotlib.pyplot as plt"
   ]
  },
  {
   "cell_type": "code",
   "execution_count": null,
   "id": "87ad2dbd",
   "metadata": {},
   "outputs": [],
   "source": [
    "K = nx.Graph()\n",
    "\n",
    "data['new_weights'] = list(zip(data['FROM_ACC'], data['TO_ACC'], data['AMT'], data['RMTC_BNK_ID']))\n",
    "K.add_weighted_edges_from(data['new_weights'])"
   ]
  },
  {
   "cell_type": "code",
   "execution_count": null,
   "id": "6efef9c3",
   "metadata": {},
   "outputs": [],
   "source": [
    "subgraph = K.subgraph([2601080200428983, 2600650200622648, '002600420200931126'])\n",
    "\n",
    "plt.figure(figsize=(18,10))\n",
    "pos = nx.spring_layout(subgraph)\n",
    "nx.draw_networkx(subgraph, pos, with_labels=True, font_weight='bold')\n",
    "labels = nx.get_edge_attributes(subgraph, 'weight')\n",
    "nx.draw_networkx_edge_labels(subgraph, pos, edge_labels=labels)\n",
    "plt.show()\n",
    "#plt.savefig('C:/Users/vvlachou/Desktop/AML')"
   ]
  },
  {
   "cell_type": "code",
   "execution_count": null,
   "id": "ce24b52a",
   "metadata": {},
   "outputs": [],
   "source": []
  }
 ],
 "metadata": {
  "kernelspec": {
   "display_name": "Python 3.8 - AzureML",
   "language": "python",
   "name": "python38-azureml"
  },
  "language_info": {
   "codemirror_mode": {
    "name": "ipython",
    "version": 3
   },
   "file_extension": ".py",
   "mimetype": "text/x-python",
   "name": "python",
   "nbconvert_exporter": "python",
   "pygments_lexer": "ipython3",
   "version": "3.8.5"
  }
 },
 "nbformat": 4,
 "nbformat_minor": 5
}
