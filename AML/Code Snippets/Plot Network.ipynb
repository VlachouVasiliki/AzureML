{
 "cells": [
  {
   "cell_type": "markdown",
   "id": "7100b7f9",
   "metadata": {},
   "source": [
    "Plot a Network"
   ]
  },
  {
   "cell_type": "code",
   "execution_count": null,
   "id": "374f4b0c",
   "metadata": {},
   "outputs": [],
   "source": [
    "import networkx as nx\n",
    "import pandas as pd\n",
    "from networkx.algorithms.community import k_clique_communities\n",
    "import matplotlib.pyplot as plt"
   ]
  },
  {
   "cell_type": "code",
   "execution_count": null,
   "id": "3f5600df",
   "metadata": {},
   "outputs": [],
   "source": [
    "K = nx.Graph()\n",
    "\n",
    "data['new_weights'] = list(zip(data['FROM_ACC'], data['TO_ACC'], data['AMT'], data['RMTC_BNK_ID']))\n",
    "K.add_weighted_edges_from(data['new_weights'])"
   ]
  },
  {
   "cell_type": "code",
   "execution_count": null,
   "id": "9cb26459",
   "metadata": {},
   "outputs": [],
   "source": [
    "subgraph = K.subgraph([2601080200428983, 2600650200622648, '002600420200931126'])\n",
    "\n",
    "plt.figure(figsize=(18,10))\n",
    "pos = nx.spring_layout(subgraph)\n",
    "nx.draw_networkx(subgraph, pos, with_labels=True, font_weight='bold')\n",
    "labels = nx.get_edge_attributes(subgraph, 'weight')\n",
    "nx.draw_networkx_edge_labels(subgraph, pos, edge_labels=labels)\n",
    "plt.show()\n",
    "#plt.savefig('C:/Users/vvlachou/Desktop/AML')"
   ]
  },
  {
   "cell_type": "code",
   "execution_count": null,
   "id": "99282a88",
   "metadata": {},
   "outputs": [],
   "source": []
  }
 ],
 "metadata": {
  "kernelspec": {
   "display_name": "Python 3.8 - AzureML",
   "language": "python",
   "name": "python38-azureml"
  },
  "language_info": {
   "codemirror_mode": {
    "name": "ipython",
    "version": 3
   },
   "file_extension": ".py",
   "mimetype": "text/x-python",
   "name": "python",
   "nbconvert_exporter": "python",
   "pygments_lexer": "ipython3",
   "version": "3.8.5"
  }
 },
 "nbformat": 4,
 "nbformat_minor": 5
}
